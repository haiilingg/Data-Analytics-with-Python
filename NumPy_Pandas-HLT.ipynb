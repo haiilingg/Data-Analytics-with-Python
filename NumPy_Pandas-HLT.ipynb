{
 "cells": [
  {
   "cell_type": "markdown",
   "metadata": {
    "id": "M4m1gkNTq7-1"
   },
   "source": [
    "### **1. Print \"+\"**\n",
    "\n",
    "**Description:**\n",
    "Given a single positive odd integer 'n' greater than 2, create a NumPy array of size (n x n) with all zeros and ones such that the ones make a shape like '+'. The lines of the plus must be present at the middle row and column.\n",
    "Hint: Start by creating a (n x n) array with all zeroes using the np.zeros() function and then fill in the ones at the appropriate indices. Use integer division (//) to access the middle rows and columns\n",
    "\n",
    "**Examples:**\n",
    "Input 1:\n",
    "3\n",
    "Output 1:\n",
    "\n",
    "```\n",
    "[[0 1 0]\n",
    " [1 1 1]\n",
    " [0 1 0]]\n",
    "```\n",
    "\n",
    "Input 2:\n",
    "5\n",
    "Output 1:\n",
    "\n",
    "```\n",
    "[[0 0 1 0 0]\n",
    " [0 0 1 0 0]\n",
    " [1 1 1 1 1]\n",
    " [0 0 1 0 0]\n",
    " [0 0 1 0 0]]\n",
    "```\n",
    "\n",
    "**Explanation:** Notice that the 1s in the arrays make a shape like '+'.\n"
   ]
  },
  {
   "cell_type": "code",
   "execution_count": 26,
   "metadata": {
    "id": "ZBokgHn9rXos"
   },
   "outputs": [
    {
     "name": "stdout",
     "output_type": "stream",
     "text": [
      "[[0 0 1 0 0]\n",
      " [0 0 1 0 0]\n",
      " [1 1 1 1 1]\n",
      " [0 0 1 0 0]\n",
      " [0 0 1 0 0]]\n"
     ]
    }
   ],
   "source": [
    "import numpy as np \n",
    "\n",
    "# Create an (nxn) array with all zeros\n",
    "z = np.zeros((5,5), dtype='int')\n",
    "\n",
    "n=5\n",
    "\n",
    "z[n//2,:] = 1\n",
    "z[:,n//2] = 1\n",
    "print(z)\n"
   ]
  },
  {
   "cell_type": "markdown",
   "metadata": {
    "id": "XZDrxflPrk8U"
   },
   "source": [
    "### **2. Weight Loss**\n",
    "\n",
    "**Description:** With your 25th birthday fast approaching, you decide to get in shape and lose some weight. You record your weight every day for five weeks starting on a Monday.\n",
    "\n",
    "```\n",
    "import numpy as np\n",
    "\n",
    "weights = 175 - np.arange(5*7)/5\n",
    "print(weights)\n",
    "```\n",
    "\n",
    "Given these daily weights, build an array with your average weight per weekend\n",
    "\n"
   ]
  },
  {
   "cell_type": "code",
   "execution_count": 19,
   "metadata": {
    "id": "tC0hI0IdtC6W"
   },
   "outputs": [
    {
     "name": "stdout",
     "output_type": "stream",
     "text": [
      "[173.9 172.5 171.1 169.7 168.3]\n"
     ]
    }
   ],
   "source": [
    "import numpy as np\n",
    "\n",
    "weights = 175 - np.arange(5*7)/5\n",
    "\n",
    "# Reshape the weights array into a 5x7 matrix\n",
    "weights_matrix = weights.reshape(5, 7)\n",
    "\n",
    "weekend_weights = weights_matrix[:, 5:]\n",
    "average_weight = np.mean(weekend_weights, axis=1)\n",
    "\n",
    "print(average_weight)\n"
   ]
  },
  {
   "cell_type": "markdown",
   "metadata": {
    "id": "UDFDypAVsEL_"
   },
   "source": [
    "### **3. Gaming Nicks**\n",
    "\n",
    "**Description:** You want to start playing a first person shooter game and you are confused to find a gaming nick for yourself, hence you asked your friends and you’ve compiled the names into a Series called nicks.\n",
    "import numpy as np\n",
    "import pandas as pd\n",
    "\n",
    "\n",
    "\n",
    "```\n",
    "nicks = pd.Series([\n",
    "    'Pik', 'Devine99', 'Spawn', 'Prodigy', 'Superkiller420', 'Pik', 'tornado',\n",
    "    'tornado', 'roger', 'Gabriel', 'Chad', 'Ryan', 'Phoenix', 'Phoenix', 'Phoenix',\n",
    "    'Phoenix', 'Zeltron', 'Ryan', 'Ruger', 'Ruger', 'roger',\n",
    "    'roger', 'Chad', 'Chad', 'Gabriel'], dtype='string')\n",
    "```\n",
    "\n",
    "Determine how many people voted for the names ‘Phoenix’, ‘roger’, and ‘Pik’.\n"
   ]
  },
  {
   "cell_type": "code",
   "execution_count": 35,
   "metadata": {
    "id": "mnGi9MxYsakP"
   },
   "outputs": [
    {
     "name": "stdout",
     "output_type": "stream",
     "text": [
      "Phoenix: 4\n",
      "roger: 3\n",
      "Pik: 2\n"
     ]
    }
   ],
   "source": [
    "import numpy as np\n",
    "import pandas as pd\n",
    "\n",
    "nicks = pd.Series([\n",
    "    'Pik', 'Devine99', 'Spawn', 'Prodigy', 'Superkiller420', 'Pik', 'tornado',\n",
    "    'tornado', 'roger', 'Gabriel', 'Chad', 'Ryan', 'Phoenix', 'Phoenix', 'Phoenix',\n",
    "    'Phoenix', 'Zeltron', 'Ryan', 'Ruger', 'Ruger', 'roger',\n",
    "    'roger', 'Chad', 'Chad', 'Gabriel'], dtype='string')\n",
    "\n",
    "vote_Phoenix=nicks.loc[nicks==\"Phoenix\"].count()\n",
    "vote_roger=nicks.loc[nicks==\"roger\"].count()\n",
    "vote_Pik=nicks.loc[nicks==\"Pik\"].count()\n",
    "\n",
    "\n",
    "print(\"Phoenix:\", vote_Phoenix)\n",
    "print(\"roger:\", vote_roger)\n",
    "print(\"Pik:\", vote_Pik)"
   ]
  },
  {
   "cell_type": "code",
   "execution_count": null,
   "metadata": {
    "id": "_PWehNTxtEno"
   },
   "outputs": [],
   "source": []
  }
 ],
 "metadata": {
  "colab": {
   "provenance": []
  },
  "kernelspec": {
   "display_name": "Python 3 (ipykernel)",
   "language": "python",
   "name": "python3"
  },
  "language_info": {
   "codemirror_mode": {
    "name": "ipython",
    "version": 3
   },
   "file_extension": ".py",
   "mimetype": "text/x-python",
   "name": "python",
   "nbconvert_exporter": "python",
   "pygments_lexer": "ipython3",
   "version": "3.10.9"
  }
 },
 "nbformat": 4,
 "nbformat_minor": 1
}
