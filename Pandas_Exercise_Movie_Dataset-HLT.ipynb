{
 "cells": [
  {
   "cell_type": "markdown",
   "metadata": {
    "id": "XshqfSy_uXNX"
   },
   "source": [
    "## Practice Exercise 2"
   ]
  },
  {
   "cell_type": "markdown",
   "metadata": {
    "id": "6lF29qNCuXNa"
   },
   "source": [
    "In this assignment, you will try to find some interesting insights into a few movies released between 1916 and 2016, using Python. You will have to download a movie dataset, write Python code to explore the data, gain insights into the movies, actors, directors, and collections, and submit the code."
   ]
  },
  {
   "cell_type": "markdown",
   "metadata": {
    "id": "SUkNF_8auXNa"
   },
   "source": [
    "#### Some tips before starting the assignment\n",
    "\n",
    "1. Identify the task to be performed correctly, and only then proceed to write the required code. Don’t perform any incorrect analysis or look for information that isn’t required for the assignment.\n",
    "2. In some cases, the variable names have already been assigned, and you just need to write code against them. In other cases, the names to be given are mentioned in the instructions. We strongly advise you to use the mentioned names only.\n",
    "3. Always keep inspecting your data frame after you have performed a particular set of operations.\n",
    "4. There are some checkpoints given in the IPython notebook provided. They're just useful pieces of information you can use to check if the result you have obtained after performing a particular task is correct or not.\n",
    "5. Note that you will be asked to refer to documentation for solving some of the questions. That is done on purpose for you to learn new commands and also how to use the documentation."
   ]
  },
  {
   "cell_type": "code",
   "execution_count": null,
   "metadata": {
    "id": "H_KfP4JguXNb"
   },
   "outputs": [],
   "source": [
    "# Import the numpy and pandas packages\n",
    "\n",
    "import numpy as np\n",
    "import pandas as pd"
   ]
  },
  {
   "cell_type": "markdown",
   "metadata": {
    "id": "sooWNIOMuXNb"
   },
   "source": [
    "### Task 1: Reading and Inspection\n",
    "\n",
    "**Subtask 1.1: Import and read**\n",
    "\n",
    "Import and read the movie database. Store it in a variable called `movies`."
   ]
  },
  {
   "cell_type": "code",
   "execution_count": 6,
   "metadata": {
    "colab": {
     "base_uri": "https://localhost:8080/",
     "height": 627
    },
    "id": "EuhabApiuXNb",
    "outputId": "a5c7ebfa-8cbf-40d8-bc5c-a2a08fb4a34e"
   },
   "outputs": [
    {
     "data": {
      "text/html": [
       "<div>\n",
       "<style scoped>\n",
       "    .dataframe tbody tr th:only-of-type {\n",
       "        vertical-align: middle;\n",
       "    }\n",
       "\n",
       "    .dataframe tbody tr th {\n",
       "        vertical-align: top;\n",
       "    }\n",
       "\n",
       "    .dataframe thead th {\n",
       "        text-align: right;\n",
       "    }\n",
       "</style>\n",
       "<table border=\"1\" class=\"dataframe\">\n",
       "  <thead>\n",
       "    <tr style=\"text-align: right;\">\n",
       "      <th></th>\n",
       "      <th>color</th>\n",
       "      <th>director_name</th>\n",
       "      <th>num_critic_for_reviews</th>\n",
       "      <th>duration</th>\n",
       "      <th>director_facebook_likes</th>\n",
       "      <th>actor_3_facebook_likes</th>\n",
       "      <th>actor_2_name</th>\n",
       "      <th>actor_1_facebook_likes</th>\n",
       "      <th>gross</th>\n",
       "      <th>genres</th>\n",
       "      <th>...</th>\n",
       "      <th>num_user_for_reviews</th>\n",
       "      <th>language</th>\n",
       "      <th>country</th>\n",
       "      <th>content_rating</th>\n",
       "      <th>budget</th>\n",
       "      <th>title_year</th>\n",
       "      <th>actor_2_facebook_likes</th>\n",
       "      <th>imdb_score</th>\n",
       "      <th>aspect_ratio</th>\n",
       "      <th>movie_facebook_likes</th>\n",
       "    </tr>\n",
       "  </thead>\n",
       "  <tbody>\n",
       "    <tr>\n",
       "      <th>0</th>\n",
       "      <td>Color</td>\n",
       "      <td>James Cameron</td>\n",
       "      <td>723.0</td>\n",
       "      <td>178.0</td>\n",
       "      <td>0.0</td>\n",
       "      <td>855.0</td>\n",
       "      <td>Joel David Moore</td>\n",
       "      <td>1000.0</td>\n",
       "      <td>760505847.0</td>\n",
       "      <td>Action|Adventure|Fantasy|Sci-Fi</td>\n",
       "      <td>...</td>\n",
       "      <td>3054.0</td>\n",
       "      <td>English</td>\n",
       "      <td>USA</td>\n",
       "      <td>PG-13</td>\n",
       "      <td>237000000.0</td>\n",
       "      <td>2009.0</td>\n",
       "      <td>936.0</td>\n",
       "      <td>7.9</td>\n",
       "      <td>1.78</td>\n",
       "      <td>33000</td>\n",
       "    </tr>\n",
       "    <tr>\n",
       "      <th>1</th>\n",
       "      <td>Color</td>\n",
       "      <td>Gore Verbinski</td>\n",
       "      <td>302.0</td>\n",
       "      <td>169.0</td>\n",
       "      <td>563.0</td>\n",
       "      <td>1000.0</td>\n",
       "      <td>Orlando Bloom</td>\n",
       "      <td>40000.0</td>\n",
       "      <td>309404152.0</td>\n",
       "      <td>Action|Adventure|Fantasy</td>\n",
       "      <td>...</td>\n",
       "      <td>1238.0</td>\n",
       "      <td>English</td>\n",
       "      <td>USA</td>\n",
       "      <td>PG-13</td>\n",
       "      <td>300000000.0</td>\n",
       "      <td>2007.0</td>\n",
       "      <td>5000.0</td>\n",
       "      <td>7.1</td>\n",
       "      <td>2.35</td>\n",
       "      <td>0</td>\n",
       "    </tr>\n",
       "    <tr>\n",
       "      <th>2</th>\n",
       "      <td>Color</td>\n",
       "      <td>Sam Mendes</td>\n",
       "      <td>602.0</td>\n",
       "      <td>148.0</td>\n",
       "      <td>0.0</td>\n",
       "      <td>161.0</td>\n",
       "      <td>Rory Kinnear</td>\n",
       "      <td>11000.0</td>\n",
       "      <td>200074175.0</td>\n",
       "      <td>Action|Adventure|Thriller</td>\n",
       "      <td>...</td>\n",
       "      <td>994.0</td>\n",
       "      <td>English</td>\n",
       "      <td>UK</td>\n",
       "      <td>PG-13</td>\n",
       "      <td>245000000.0</td>\n",
       "      <td>2015.0</td>\n",
       "      <td>393.0</td>\n",
       "      <td>6.8</td>\n",
       "      <td>2.35</td>\n",
       "      <td>85000</td>\n",
       "    </tr>\n",
       "    <tr>\n",
       "      <th>3</th>\n",
       "      <td>Color</td>\n",
       "      <td>Christopher Nolan</td>\n",
       "      <td>813.0</td>\n",
       "      <td>164.0</td>\n",
       "      <td>22000.0</td>\n",
       "      <td>23000.0</td>\n",
       "      <td>Christian Bale</td>\n",
       "      <td>27000.0</td>\n",
       "      <td>448130642.0</td>\n",
       "      <td>Action|Thriller</td>\n",
       "      <td>...</td>\n",
       "      <td>2701.0</td>\n",
       "      <td>English</td>\n",
       "      <td>USA</td>\n",
       "      <td>PG-13</td>\n",
       "      <td>250000000.0</td>\n",
       "      <td>2012.0</td>\n",
       "      <td>23000.0</td>\n",
       "      <td>8.5</td>\n",
       "      <td>2.35</td>\n",
       "      <td>164000</td>\n",
       "    </tr>\n",
       "    <tr>\n",
       "      <th>4</th>\n",
       "      <td>Color</td>\n",
       "      <td>Andrew Stanton</td>\n",
       "      <td>462.0</td>\n",
       "      <td>132.0</td>\n",
       "      <td>475.0</td>\n",
       "      <td>530.0</td>\n",
       "      <td>Samantha Morton</td>\n",
       "      <td>640.0</td>\n",
       "      <td>73058679.0</td>\n",
       "      <td>Action|Adventure|Sci-Fi</td>\n",
       "      <td>...</td>\n",
       "      <td>738.0</td>\n",
       "      <td>English</td>\n",
       "      <td>USA</td>\n",
       "      <td>PG-13</td>\n",
       "      <td>263700000.0</td>\n",
       "      <td>2012.0</td>\n",
       "      <td>632.0</td>\n",
       "      <td>6.6</td>\n",
       "      <td>2.35</td>\n",
       "      <td>24000</td>\n",
       "    </tr>\n",
       "    <tr>\n",
       "      <th>...</th>\n",
       "      <td>...</td>\n",
       "      <td>...</td>\n",
       "      <td>...</td>\n",
       "      <td>...</td>\n",
       "      <td>...</td>\n",
       "      <td>...</td>\n",
       "      <td>...</td>\n",
       "      <td>...</td>\n",
       "      <td>...</td>\n",
       "      <td>...</td>\n",
       "      <td>...</td>\n",
       "      <td>...</td>\n",
       "      <td>...</td>\n",
       "      <td>...</td>\n",
       "      <td>...</td>\n",
       "      <td>...</td>\n",
       "      <td>...</td>\n",
       "      <td>...</td>\n",
       "      <td>...</td>\n",
       "      <td>...</td>\n",
       "      <td>...</td>\n",
       "    </tr>\n",
       "    <tr>\n",
       "      <th>3848</th>\n",
       "      <td>Color</td>\n",
       "      <td>Shane Carruth</td>\n",
       "      <td>143.0</td>\n",
       "      <td>77.0</td>\n",
       "      <td>291.0</td>\n",
       "      <td>8.0</td>\n",
       "      <td>David Sullivan</td>\n",
       "      <td>291.0</td>\n",
       "      <td>424760.0</td>\n",
       "      <td>Drama|Sci-Fi|Thriller</td>\n",
       "      <td>...</td>\n",
       "      <td>371.0</td>\n",
       "      <td>English</td>\n",
       "      <td>USA</td>\n",
       "      <td>PG-13</td>\n",
       "      <td>7000.0</td>\n",
       "      <td>2004.0</td>\n",
       "      <td>45.0</td>\n",
       "      <td>7.0</td>\n",
       "      <td>1.85</td>\n",
       "      <td>19000</td>\n",
       "    </tr>\n",
       "    <tr>\n",
       "      <th>3849</th>\n",
       "      <td>Color</td>\n",
       "      <td>Neill Dela Llana</td>\n",
       "      <td>35.0</td>\n",
       "      <td>80.0</td>\n",
       "      <td>0.0</td>\n",
       "      <td>0.0</td>\n",
       "      <td>Edgar Tancangco</td>\n",
       "      <td>0.0</td>\n",
       "      <td>70071.0</td>\n",
       "      <td>Thriller</td>\n",
       "      <td>...</td>\n",
       "      <td>35.0</td>\n",
       "      <td>English</td>\n",
       "      <td>Philippines</td>\n",
       "      <td>Not Rated</td>\n",
       "      <td>7000.0</td>\n",
       "      <td>2005.0</td>\n",
       "      <td>0.0</td>\n",
       "      <td>6.3</td>\n",
       "      <td>NaN</td>\n",
       "      <td>74</td>\n",
       "    </tr>\n",
       "    <tr>\n",
       "      <th>3850</th>\n",
       "      <td>Color</td>\n",
       "      <td>Robert Rodriguez</td>\n",
       "      <td>56.0</td>\n",
       "      <td>81.0</td>\n",
       "      <td>0.0</td>\n",
       "      <td>6.0</td>\n",
       "      <td>Peter Marquardt</td>\n",
       "      <td>121.0</td>\n",
       "      <td>2040920.0</td>\n",
       "      <td>Action|Crime|Drama|Romance|Thriller</td>\n",
       "      <td>...</td>\n",
       "      <td>130.0</td>\n",
       "      <td>Spanish</td>\n",
       "      <td>USA</td>\n",
       "      <td>R</td>\n",
       "      <td>7000.0</td>\n",
       "      <td>1992.0</td>\n",
       "      <td>20.0</td>\n",
       "      <td>6.9</td>\n",
       "      <td>1.37</td>\n",
       "      <td>0</td>\n",
       "    </tr>\n",
       "    <tr>\n",
       "      <th>3851</th>\n",
       "      <td>Color</td>\n",
       "      <td>Edward Burns</td>\n",
       "      <td>14.0</td>\n",
       "      <td>95.0</td>\n",
       "      <td>0.0</td>\n",
       "      <td>133.0</td>\n",
       "      <td>Caitlin FitzGerald</td>\n",
       "      <td>296.0</td>\n",
       "      <td>4584.0</td>\n",
       "      <td>Comedy|Drama</td>\n",
       "      <td>...</td>\n",
       "      <td>14.0</td>\n",
       "      <td>English</td>\n",
       "      <td>USA</td>\n",
       "      <td>Not Rated</td>\n",
       "      <td>9000.0</td>\n",
       "      <td>2011.0</td>\n",
       "      <td>205.0</td>\n",
       "      <td>6.4</td>\n",
       "      <td>NaN</td>\n",
       "      <td>413</td>\n",
       "    </tr>\n",
       "    <tr>\n",
       "      <th>3852</th>\n",
       "      <td>Color</td>\n",
       "      <td>Jon Gunn</td>\n",
       "      <td>43.0</td>\n",
       "      <td>90.0</td>\n",
       "      <td>16.0</td>\n",
       "      <td>16.0</td>\n",
       "      <td>Brian Herzlinger</td>\n",
       "      <td>86.0</td>\n",
       "      <td>85222.0</td>\n",
       "      <td>Documentary</td>\n",
       "      <td>...</td>\n",
       "      <td>84.0</td>\n",
       "      <td>English</td>\n",
       "      <td>USA</td>\n",
       "      <td>PG</td>\n",
       "      <td>1100.0</td>\n",
       "      <td>2004.0</td>\n",
       "      <td>23.0</td>\n",
       "      <td>6.6</td>\n",
       "      <td>1.85</td>\n",
       "      <td>456</td>\n",
       "    </tr>\n",
       "  </tbody>\n",
       "</table>\n",
       "<p>3853 rows × 28 columns</p>\n",
       "</div>"
      ],
      "text/plain": [
       "      color      director_name  num_critic_for_reviews  duration  \\\n",
       "0     Color      James Cameron                   723.0     178.0   \n",
       "1     Color     Gore Verbinski                   302.0     169.0   \n",
       "2     Color         Sam Mendes                   602.0     148.0   \n",
       "3     Color  Christopher Nolan                   813.0     164.0   \n",
       "4     Color     Andrew Stanton                   462.0     132.0   \n",
       "...     ...                ...                     ...       ...   \n",
       "3848  Color      Shane Carruth                   143.0      77.0   \n",
       "3849  Color   Neill Dela Llana                    35.0      80.0   \n",
       "3850  Color   Robert Rodriguez                    56.0      81.0   \n",
       "3851  Color       Edward Burns                    14.0      95.0   \n",
       "3852  Color           Jon Gunn                    43.0      90.0   \n",
       "\n",
       "      director_facebook_likes  actor_3_facebook_likes        actor_2_name  \\\n",
       "0                         0.0                   855.0    Joel David Moore   \n",
       "1                       563.0                  1000.0       Orlando Bloom   \n",
       "2                         0.0                   161.0        Rory Kinnear   \n",
       "3                     22000.0                 23000.0      Christian Bale   \n",
       "4                       475.0                   530.0     Samantha Morton   \n",
       "...                       ...                     ...                 ...   \n",
       "3848                    291.0                     8.0      David Sullivan   \n",
       "3849                      0.0                     0.0     Edgar Tancangco   \n",
       "3850                      0.0                     6.0     Peter Marquardt   \n",
       "3851                      0.0                   133.0  Caitlin FitzGerald   \n",
       "3852                     16.0                    16.0    Brian Herzlinger   \n",
       "\n",
       "      actor_1_facebook_likes        gross  \\\n",
       "0                     1000.0  760505847.0   \n",
       "1                    40000.0  309404152.0   \n",
       "2                    11000.0  200074175.0   \n",
       "3                    27000.0  448130642.0   \n",
       "4                      640.0   73058679.0   \n",
       "...                      ...          ...   \n",
       "3848                   291.0     424760.0   \n",
       "3849                     0.0      70071.0   \n",
       "3850                   121.0    2040920.0   \n",
       "3851                   296.0       4584.0   \n",
       "3852                    86.0      85222.0   \n",
       "\n",
       "                                   genres  ... num_user_for_reviews language  \\\n",
       "0         Action|Adventure|Fantasy|Sci-Fi  ...               3054.0  English   \n",
       "1                Action|Adventure|Fantasy  ...               1238.0  English   \n",
       "2               Action|Adventure|Thriller  ...                994.0  English   \n",
       "3                         Action|Thriller  ...               2701.0  English   \n",
       "4                 Action|Adventure|Sci-Fi  ...                738.0  English   \n",
       "...                                   ...  ...                  ...      ...   \n",
       "3848                Drama|Sci-Fi|Thriller  ...                371.0  English   \n",
       "3849                             Thriller  ...                 35.0  English   \n",
       "3850  Action|Crime|Drama|Romance|Thriller  ...                130.0  Spanish   \n",
       "3851                         Comedy|Drama  ...                 14.0  English   \n",
       "3852                          Documentary  ...                 84.0  English   \n",
       "\n",
       "          country  content_rating       budget  title_year  \\\n",
       "0             USA           PG-13  237000000.0      2009.0   \n",
       "1             USA           PG-13  300000000.0      2007.0   \n",
       "2              UK           PG-13  245000000.0      2015.0   \n",
       "3             USA           PG-13  250000000.0      2012.0   \n",
       "4             USA           PG-13  263700000.0      2012.0   \n",
       "...           ...             ...          ...         ...   \n",
       "3848          USA           PG-13       7000.0      2004.0   \n",
       "3849  Philippines       Not Rated       7000.0      2005.0   \n",
       "3850          USA               R       7000.0      1992.0   \n",
       "3851          USA       Not Rated       9000.0      2011.0   \n",
       "3852          USA              PG       1100.0      2004.0   \n",
       "\n",
       "     actor_2_facebook_likes imdb_score  aspect_ratio movie_facebook_likes  \n",
       "0                     936.0        7.9          1.78                33000  \n",
       "1                    5000.0        7.1          2.35                    0  \n",
       "2                     393.0        6.8          2.35                85000  \n",
       "3                   23000.0        8.5          2.35               164000  \n",
       "4                     632.0        6.6          2.35                24000  \n",
       "...                     ...        ...           ...                  ...  \n",
       "3848                   45.0        7.0          1.85                19000  \n",
       "3849                    0.0        6.3           NaN                   74  \n",
       "3850                   20.0        6.9          1.37                    0  \n",
       "3851                  205.0        6.4           NaN                  413  \n",
       "3852                   23.0        6.6          1.85                  456  \n",
       "\n",
       "[3853 rows x 28 columns]"
      ]
     },
     "execution_count": 6,
     "metadata": {},
     "output_type": "execute_result"
    }
   ],
   "source": [
    "# Write your code for importing the csv file here\n",
    "import numpy as np\n",
    "import pandas as pd\n",
    "movies = pd.read_csv('/Users/hailing/Downloads/6_Pandas_Exercise_2_Movie_Dataset/6_Movies.csv')\n",
    "movies"
   ]
  },
  {
   "cell_type": "markdown",
   "metadata": {
    "id": "xE4LuwjPuXNc"
   },
   "source": [
    "**Subtask 1.2: Inspect the dataframe**\n",
    "\n",
    "Inspect the dataframe's columns, shapes, variable types etc."
   ]
  },
  {
   "cell_type": "code",
   "execution_count": 25,
   "metadata": {
    "id": "ULpx3DjTuXNc"
   },
   "outputs": [
    {
     "name": "stdout",
     "output_type": "stream",
     "text": [
      "Index(['color', 'director_name', 'num_critic_for_reviews', 'duration',\n",
      "       'director_facebook_likes', 'actor_3_facebook_likes', 'actor_2_name',\n",
      "       'actor_1_facebook_likes', 'gross', 'genres', 'actor_1_name',\n",
      "       'movie_title', 'num_voted_users', 'cast_total_facebook_likes',\n",
      "       'actor_3_name', 'facenumber_in_poster', 'plot_keywords',\n",
      "       'movie_imdb_link', 'num_user_for_reviews', 'language', 'country',\n",
      "       'content_rating', 'budget', 'title_year', 'actor_2_facebook_likes',\n",
      "       'imdb_score', 'aspect_ratio', 'movie_facebook_likes'],\n",
      "      dtype='object')\n",
      "(3853, 28)\n",
      "color                         object\n",
      "director_name                 object\n",
      "num_critic_for_reviews       float64\n",
      "duration                     float64\n",
      "director_facebook_likes      float64\n",
      "actor_3_facebook_likes       float64\n",
      "actor_2_name                  object\n",
      "actor_1_facebook_likes       float64\n",
      "gross                        float64\n",
      "genres                        object\n",
      "actor_1_name                  object\n",
      "movie_title                   object\n",
      "num_voted_users                int64\n",
      "cast_total_facebook_likes      int64\n",
      "actor_3_name                  object\n",
      "facenumber_in_poster         float64\n",
      "plot_keywords                 object\n",
      "movie_imdb_link               object\n",
      "num_user_for_reviews         float64\n",
      "language                      object\n",
      "country                       object\n",
      "content_rating                object\n",
      "budget                       float64\n",
      "title_year                   float64\n",
      "actor_2_facebook_likes       float64\n",
      "imdb_score                   float64\n",
      "aspect_ratio                 float64\n",
      "movie_facebook_likes           int64\n",
      "dtype: object\n"
     ]
    }
   ],
   "source": [
    "import numpy as np\n",
    "import pandas as pd\n",
    "df = pd.read_csv('/Users/hailing/Downloads/6_Pandas_Exercise_2_Movie_Dataset/6_Movies.csv')\n",
    "\n",
    "# Inspect columns\n",
    "print(df.columns)\n",
    "\n",
    "# Inspect shape\n",
    "print(df.shape)\n",
    "\n",
    "# Inspect variable types\n",
    "print(df.dtypes)\n",
    "\n"
   ]
  },
  {
   "cell_type": "markdown",
   "metadata": {
    "id": "iTpZ3uIfuXNc"
   },
   "source": [
    "#### <font color='red'>Question 1: How many rows and columns are present in the dataframe? </font>\n",
    "-  <font color='red'>(3821, 26)</font>\n",
    "-  <font color='red'>(3879, 28)</font>\n",
    "-  <font color='red'>(3853, 28)</font>\n",
    "-  <font color='red'>(3866, 26)</font>"
   ]
  },
  {
   "cell_type": "code",
   "execution_count": 16,
   "metadata": {
    "id": "irUHMhNB6_WI"
   },
   "outputs": [
    {
     "name": "stdout",
     "output_type": "stream",
     "text": [
      "(3853, 28)\n"
     ]
    }
   ],
   "source": [
    "import numpy as np\n",
    "import pandas as pd\n",
    "df = pd.read_csv('/Users/hailing/Downloads/6_Pandas_Exercise_2_Movie_Dataset/6_Movies.csv')\n",
    "\n",
    "print(df.shape)\n"
   ]
  },
  {
   "cell_type": "markdown",
   "metadata": {
    "id": "ppUf8OsnuXNc"
   },
   "source": [
    "#### <font color='red'>Question 2: How many columns have null values present in them? Try writing a code for this instead of counting them manually.</font>\n",
    "\n",
    "-  <font color='red'>3</font>\n",
    "-  <font color='red'>6</font>\n",
    "-  <font color='red'>9</font>\n",
    "-  <font color='red'>12</font>"
   ]
  },
  {
   "cell_type": "code",
   "execution_count": 24,
   "metadata": {
    "id": "bJRVBlJF7NqB"
   },
   "outputs": [
    {
     "name": "stdout",
     "output_type": "stream",
     "text": [
      "12\n"
     ]
    }
   ],
   "source": [
    "null_column = df.isnull().any()\n",
    "sum_null_column = null_column.sum()\n",
    "\n",
    "print(sum_null_column)\n"
   ]
  },
  {
   "cell_type": "markdown",
   "metadata": {
    "id": "X-W3oxUyuXNc"
   },
   "source": [
    "### Task 2: Cleaning the Data\n",
    "\n",
    "**Subtask 2.1: Drop unecessary columns**\n",
    "\n",
    "For this assignment, you will mostly be analyzing the movies with respect to the ratings, gross collection, popularity of movies, etc. So many of the columns in this dataframe are not required. So it is advised to drop the following columns.\n",
    "-  color\n",
    "-  director_facebook_likes\n",
    "-  actor_1_facebook_likes\n",
    "-  actor_2_facebook_likes\n",
    "-  actor_3_facebook_likes\n",
    "-  actor_2_name\n",
    "-  cast_total_facebook_likes\n",
    "-  actor_3_name\n",
    "-  duration\n",
    "-  facenumber_in_poster\n",
    "-  content_rating\n",
    "-  country\n",
    "-  movie_imdb_link\n",
    "-  aspect_ratio\n",
    "-  plot_keywords"
   ]
  },
  {
   "cell_type": "code",
   "execution_count": 29,
   "metadata": {
    "id": "Wxfok821uXNd"
   },
   "outputs": [
    {
     "name": "stdout",
     "output_type": "stream",
     "text": [
      "          director_name  num_critic_for_reviews        gross  \\\n",
      "0         James Cameron                   723.0  760505847.0   \n",
      "1        Gore Verbinski                   302.0  309404152.0   \n",
      "2            Sam Mendes                   602.0  200074175.0   \n",
      "3     Christopher Nolan                   813.0  448130642.0   \n",
      "4        Andrew Stanton                   462.0   73058679.0   \n",
      "...                 ...                     ...          ...   \n",
      "3848      Shane Carruth                   143.0     424760.0   \n",
      "3849   Neill Dela Llana                    35.0      70071.0   \n",
      "3850   Robert Rodriguez                    56.0    2040920.0   \n",
      "3851       Edward Burns                    14.0       4584.0   \n",
      "3852           Jon Gunn                    43.0      85222.0   \n",
      "\n",
      "                                   genres     actor_1_name  \\\n",
      "0         Action|Adventure|Fantasy|Sci-Fi      CCH Pounder   \n",
      "1                Action|Adventure|Fantasy      Johnny Depp   \n",
      "2               Action|Adventure|Thriller  Christoph Waltz   \n",
      "3                         Action|Thriller        Tom Hardy   \n",
      "4                 Action|Adventure|Sci-Fi     Daryl Sabara   \n",
      "...                                   ...              ...   \n",
      "3848                Drama|Sci-Fi|Thriller    Shane Carruth   \n",
      "3849                             Thriller      Ian Gamazon   \n",
      "3850  Action|Crime|Drama|Romance|Thriller  Carlos Gallardo   \n",
      "3851                         Comedy|Drama      Kerry Bishé   \n",
      "3852                          Documentary      John August   \n",
      "\n",
      "                                    movie_title  num_voted_users  \\\n",
      "0                                       Avatar            886204   \n",
      "1     Pirates of the Caribbean: At World's End            471220   \n",
      "2                                      Spectre            275868   \n",
      "3                        The Dark Knight Rises           1144337   \n",
      "4                                  John Carter            212204   \n",
      "...                                         ...              ...   \n",
      "3848                                    Primer             72639   \n",
      "3849                                    Cavite               589   \n",
      "3850                               El Mariachi             52055   \n",
      "3851                                 Newlyweds              1338   \n",
      "3852                         My Date with Drew              4285   \n",
      "\n",
      "      num_user_for_reviews language       budget  title_year  imdb_score  \\\n",
      "0                   3054.0  English  237000000.0      2009.0         7.9   \n",
      "1                   1238.0  English  300000000.0      2007.0         7.1   \n",
      "2                    994.0  English  245000000.0      2015.0         6.8   \n",
      "3                   2701.0  English  250000000.0      2012.0         8.5   \n",
      "4                    738.0  English  263700000.0      2012.0         6.6   \n",
      "...                    ...      ...          ...         ...         ...   \n",
      "3848                 371.0  English       7000.0      2004.0         7.0   \n",
      "3849                  35.0  English       7000.0      2005.0         6.3   \n",
      "3850                 130.0  Spanish       7000.0      1992.0         6.9   \n",
      "3851                  14.0  English       9000.0      2011.0         6.4   \n",
      "3852                  84.0  English       1100.0      2004.0         6.6   \n",
      "\n",
      "      movie_facebook_likes  \n",
      "0                    33000  \n",
      "1                        0  \n",
      "2                    85000  \n",
      "3                   164000  \n",
      "4                    24000  \n",
      "...                    ...  \n",
      "3848                 19000  \n",
      "3849                    74  \n",
      "3850                     0  \n",
      "3851                   413  \n",
      "3852                   456  \n",
      "\n",
      "[3853 rows x 13 columns]\n"
     ]
    }
   ],
   "source": [
    "import numpy as np\n",
    "import pandas as pd\n",
    "df = pd.read_csv('/Users/hailing/Downloads/6_Pandas_Exercise_2_Movie_Dataset/6_Movies.csv')\n",
    "newdf=df.drop(columns=['color','director_facebook_likes','actor_1_facebook_likes','actor_2_facebook_likes','actor_3_facebook_likes','actor_2_name','cast_total_facebook_likes','actor_3_name','duration','facenumber_in_poster','content_rating','country','movie_imdb_link','aspect_ratio','plot_keywords'],axis=1)\n",
    "print(newdf)\n"
   ]
  },
  {
   "cell_type": "markdown",
   "metadata": {
    "id": "QgTCnAPcuXNd"
   },
   "source": [
    "#### <font color='red'>Question 3: What is the count of columns in the new dataframe? </font>\n",
    "-  <font color='red'>10</font>\n",
    "-  <font color='red'>13</font>\n",
    "-  <font color='red'>15</font>\n",
    "-  <font color='red'>17</font>"
   ]
  },
  {
   "cell_type": "code",
   "execution_count": 23,
   "metadata": {
    "id": "LKkmOxdwwADA"
   },
   "outputs": [
    {
     "name": "stdout",
     "output_type": "stream",
     "text": [
      "13\n"
     ]
    }
   ],
   "source": [
    "newdf=df.drop(columns=['color','director_facebook_likes','actor_1_facebook_likes','actor_2_facebook_likes','actor_3_facebook_likes','actor_2_name','cast_total_facebook_likes','actor_3_name','duration','facenumber_in_poster','content_rating','country','movie_imdb_link','aspect_ratio','plot_keywords'],axis=1)\n",
    "print(newdf.shape[1])\n"
   ]
  },
  {
   "cell_type": "markdown",
   "metadata": {
    "id": "3aERBDsxuXNd"
   },
   "source": [
    "**Subtask 2.2: Inspect Null values**\n",
    "\n",
    "As you have seen above, there are null values in multiple columns of the dataframe 'movies'. Find out the percentage of null values in each column of the dataframe 'movies'. "
   ]
  },
  {
   "cell_type": "code",
   "execution_count": 21,
   "metadata": {
    "id": "wZ51pTxjuXNd"
   },
   "outputs": [
    {
     "name": "stdout",
     "output_type": "stream",
     "text": [
      "director_name             0.00%\n",
      "num_critic_for_reviews    0.03%\n",
      "gross                     0.00%\n",
      "genres                    0.00%\n",
      "actor_1_name              0.00%\n",
      "movie_title               0.00%\n",
      "num_voted_users           0.00%\n",
      "num_user_for_reviews      0.00%\n",
      "language                  0.08%\n",
      "budget                    0.00%\n",
      "title_year                0.00%\n",
      "imdb_score                0.00%\n",
      "movie_facebook_likes      0.00%\n",
      "dtype: object\n"
     ]
    }
   ],
   "source": [
    "newdf = df.drop(columns=['color', 'director_facebook_likes', 'actor_1_facebook_likes', 'actor_2_facebook_likes', 'actor_3_facebook_likes', 'actor_2_name', 'cast_total_facebook_likes', 'actor_3_name', 'duration', 'facenumber_in_poster', 'content_rating', 'country', 'movie_imdb_link', 'aspect_ratio', 'plot_keywords'], axis=1)\n",
    "\n",
    "null_percentage = (newdf.isnull().sum() / len(newdf)) * 100\n",
    "\n",
    "formatted_percentage = null_percentage.apply(lambda x: f\"{x:.2f}%\")\n",
    "\n",
    "print(formatted_percentage)\n"
   ]
  },
  {
   "cell_type": "markdown",
   "metadata": {
    "id": "z8jocpwuuXNd"
   },
   "source": [
    "#### <font color='red'>Question 4: Which column has the highest percentage of null values? </font>\n",
    "-  <font color='red'>language</font>\n",
    "-  <font color='red'>genres</font>\n",
    "-  <font color='red'>num_critic_for_reviews</font>\n",
    "-  <font color='red'>imdb_score</font>"
   ]
  },
  {
   "cell_type": "code",
   "execution_count": 22,
   "metadata": {
    "id": "4iFYemqd7WHK"
   },
   "outputs": [
    {
     "name": "stdout",
     "output_type": "stream",
     "text": [
      "language\n"
     ]
    }
   ],
   "source": [
    "newdf = df.drop(columns=['color', 'director_facebook_likes', 'actor_1_facebook_likes', 'actor_2_facebook_likes', 'actor_3_facebook_likes', 'actor_2_name', 'cast_total_facebook_likes', 'actor_3_name', 'duration', 'facenumber_in_poster', 'content_rating', 'country', 'movie_imdb_link', 'aspect_ratio', 'plot_keywords'], axis=1)\n",
    "\n",
    "null_percentage = (newdf.isnull().sum() / len(newdf)) * 100\n",
    "\n",
    "formatted_percentage = null_percentage.apply(lambda x: f\"{x:.2f}%\")\n",
    "\n",
    "highest_null_column = null_percentage.idxmax()\n",
    "print(highest_null_column)"
   ]
  },
  {
   "cell_type": "markdown",
   "metadata": {
    "id": "pSYiWL6wuXNe"
   },
   "source": [
    "**Subtask 2.3: Fill NaN values**\n",
    "\n",
    "You might notice that the `language` column has some NaN values. Here, on inspection, you will see that it is safe to replace all the missing values with `'English'`."
   ]
  },
  {
   "cell_type": "code",
   "execution_count": 19,
   "metadata": {
    "id": "oYJvwJYHuXNe"
   },
   "outputs": [
    {
     "name": "stdout",
     "output_type": "stream",
     "text": [
      "0       English\n",
      "1       English\n",
      "2       English\n",
      "3       English\n",
      "4       English\n",
      "         ...   \n",
      "3848    English\n",
      "3849    English\n",
      "3850    Spanish\n",
      "3851    English\n",
      "3852    English\n",
      "Name: language, Length: 3853, dtype: object\n"
     ]
    }
   ],
   "source": [
    "newdf['language'] = newdf['language'].replace(np.nan, 'English')\n",
    "\n",
    "print(newdf['language'])\n"
   ]
  },
  {
   "cell_type": "markdown",
   "metadata": {
    "id": "XTXHkBPAuXNe"
   },
   "source": [
    "#### <font color='red'>Question 5: What is the count of movies made in English language after replacing the NaN values with English? </font>\n",
    "-  <font color='red'>3670</font>\n",
    "-  <font color='red'>3674</font>\n",
    "-  <font color='red'>3668</font>\n",
    "-  <font color='red'>3672</font>"
   ]
  },
  {
   "cell_type": "code",
   "execution_count": 372,
   "metadata": {
    "id": "Hvmez59y7ZUh"
   },
   "outputs": [
    {
     "name": "stdout",
     "output_type": "stream",
     "text": [
      "3672\n"
     ]
    }
   ],
   "source": [
    "eng_df = newdf[newdf.language == 'English']\n",
    "print(len(eng_df)+1)\n",
    "\n",
    "\n"
   ]
  },
  {
   "cell_type": "markdown",
   "metadata": {
    "id": "dhoX0JkUuXNe"
   },
   "source": [
    "### Task 3: Data Analysis\n",
    "\n",
    "**Subtask 3.1: Change the unit of columns**\n",
    "\n",
    "Convert the unit of the `budget` and `gross` columns from `$` to `million $`."
   ]
  },
  {
   "cell_type": "code",
   "execution_count": 150,
   "metadata": {
    "id": "BZRN_vCExjh3"
   },
   "outputs": [
    {
     "name": "stdout",
     "output_type": "stream",
     "text": [
      "0       237.0000\n",
      "1       300.0000\n",
      "2       245.0000\n",
      "3       250.0000\n",
      "4       263.7000\n",
      "          ...   \n",
      "3844      0.0100\n",
      "3848      0.0070\n",
      "3849      0.0070\n",
      "3851      0.0090\n",
      "3852      0.0011\n",
      "Name: budget, Length: 3671, dtype: float64 0       760.505847\n",
      "1       309.404152\n",
      "2       200.074175\n",
      "3       448.130642\n",
      "4        73.058679\n",
      "           ...    \n",
      "3844      0.180483\n",
      "3848      0.424760\n",
      "3849      0.070071\n",
      "3851      0.004584\n",
      "3852      0.085222\n",
      "Name: gross, Length: 3671, dtype: float64\n"
     ]
    }
   ],
   "source": [
    "eng_df = df[df.language == 'English']\n",
    "eng_df = df[df.language == 'English'].copy()\n",
    "eng_df['budget'] = eng_df['budget'] / 1000000\n",
    "eng_df['gross'] = eng_df['gross'] / 1000000\n",
    "\n",
    "print(eng_df['budget'], eng_df['gross'])"
   ]
  },
  {
   "cell_type": "markdown",
   "metadata": {
    "id": "MW4JXtctuXNe"
   },
   "source": [
    "**Subtask 3.2: Find the movies with highest profit**\n",
    "\n",
    "   1. Create a new column called `profit` which contains the difference of the two columns: `gross` and `budget`.\n",
    "   2. Sort the dataframe using the `profit` column as reference. (Find which command can be used here to sort entries from the documentation)\n",
    "   3. Extract the top ten profiting movies in descending order and store them in a new dataframe - `top10`"
   ]
  },
  {
   "cell_type": "code",
   "execution_count": 71,
   "metadata": {
    "id": "jwnaN6LUuXNe"
   },
   "outputs": [],
   "source": [
    "eng_df['profit'] = eng_df['gross'] - eng_df['budget']\n",
    "\n"
   ]
  },
  {
   "cell_type": "code",
   "execution_count": 354,
   "metadata": {
    "id": "s8kD6Z05uXNf"
   },
   "outputs": [],
   "source": [
    "eng_df = eng_df.sort_values(by='profit', ascending=False)\n"
   ]
  },
  {
   "cell_type": "code",
   "execution_count": 363,
   "metadata": {
    "id": "hn-BKgJVuXNf"
   },
   "outputs": [
    {
     "name": "stdout",
     "output_type": "stream",
     "text": [
      "      color      director_name  num_critic_for_reviews  duration  \\\n",
      "0     Color      James Cameron                   723.0     178.0   \n",
      "28    Color    Colin Trevorrow                   644.0     124.0   \n",
      "25    Color      James Cameron                   315.0     194.0   \n",
      "2704  Color       George Lucas                   282.0     125.0   \n",
      "2748  Color   Steven Spielberg                   215.0     120.0   \n",
      "16    Color        Joss Whedon                   703.0     173.0   \n",
      "482   Color       Roger Allers                   186.0      73.0   \n",
      "230   Color       George Lucas                   320.0     136.0   \n",
      "64    Color  Christopher Nolan                   645.0     152.0   \n",
      "419   Color          Gary Ross                   673.0     142.0   \n",
      "\n",
      "      director_facebook_likes  actor_3_facebook_likes       actor_2_name  \\\n",
      "0                         0.0                   855.0   Joel David Moore   \n",
      "28                      365.0                  1000.0         Judy Greer   \n",
      "25                        0.0                   794.0       Kate Winslet   \n",
      "2704                      0.0                   504.0      Peter Cushing   \n",
      "2748                  14000.0                   548.0        Dee Wallace   \n",
      "16                        0.0                 19000.0  Robert Downey Jr.   \n",
      "482                      28.0                   847.0        Nathan Lane   \n",
      "230                       0.0                  1000.0        Liam Neeson   \n",
      "64                    22000.0                 11000.0       Heath Ledger   \n",
      "419                     378.0                   575.0    Josh Hutcherson   \n",
      "\n",
      "      actor_1_facebook_likes        gross  \\\n",
      "0                     1000.0  760505847.0   \n",
      "28                    3000.0  652177271.0   \n",
      "25                   29000.0  658672302.0   \n",
      "2704                 11000.0  460935665.0   \n",
      "2748                   861.0  434949459.0   \n",
      "16                   26000.0  623279547.0   \n",
      "482                   2000.0  422783777.0   \n",
      "230                  20000.0  474544677.0   \n",
      "64                   23000.0  533316061.0   \n",
      "419                  34000.0  407999255.0   \n",
      "\n",
      "                                        genres  ... language country  \\\n",
      "0              Action|Adventure|Fantasy|Sci-Fi  ...  English     USA   \n",
      "28            Action|Adventure|Sci-Fi|Thriller  ...  English     USA   \n",
      "25                               Drama|Romance  ...  English     USA   \n",
      "2704           Action|Adventure|Fantasy|Sci-Fi  ...  English     USA   \n",
      "2748                             Family|Sci-Fi  ...  English     USA   \n",
      "16                     Action|Adventure|Sci-Fi  ...  English     USA   \n",
      "482   Adventure|Animation|Drama|Family|Musical  ...  English     USA   \n",
      "230            Action|Adventure|Fantasy|Sci-Fi  ...  English     USA   \n",
      "64                 Action|Crime|Drama|Thriller  ...  English     USA   \n",
      "419            Adventure|Drama|Sci-Fi|Thriller  ...  English     USA   \n",
      "\n",
      "      content_rating       budget title_year  actor_2_facebook_likes  \\\n",
      "0              PG-13  237000000.0     2009.0                   936.0   \n",
      "28             PG-13  150000000.0     2015.0                  2000.0   \n",
      "25             PG-13  200000000.0     1997.0                 14000.0   \n",
      "2704              PG   11000000.0     1977.0                  1000.0   \n",
      "2748              PG   10500000.0     1982.0                   725.0   \n",
      "16             PG-13  220000000.0     2012.0                 21000.0   \n",
      "482                G   45000000.0     1994.0                   886.0   \n",
      "230               PG  115000000.0     1999.0                 14000.0   \n",
      "64             PG-13  185000000.0     2008.0                 13000.0   \n",
      "419            PG-13   78000000.0     2012.0                 14000.0   \n",
      "\n",
      "     imdb_score aspect_ratio  movie_facebook_likes       profit  \n",
      "0           7.9         1.78                 33000  523505847.0  \n",
      "28          7.0         2.00                150000  502177271.0  \n",
      "25          7.7         2.35                 26000  458672302.0  \n",
      "2704        8.7         2.35                 33000  449935665.0  \n",
      "2748        7.9         1.85                 34000  424449459.0  \n",
      "16          8.1         1.85                123000  403279547.0  \n",
      "482         8.5         1.66                 17000  377783777.0  \n",
      "230         6.5         2.35                 13000  359544677.0  \n",
      "64          9.0         2.35                 37000  348316061.0  \n",
      "419         7.3         2.35                140000  329999255.0  \n",
      "\n",
      "[10 rows x 29 columns]\n"
     ]
    }
   ],
   "source": [
    "top10 = eng_df.head(10)\n",
    "print(top10)\n",
    "\n"
   ]
  },
  {
   "cell_type": "markdown",
   "metadata": {
    "id": "DPBSf9wquXNf"
   },
   "source": [
    "**Checkpoint:** You might spot two movies directed by `James Cameron` in the list."
   ]
  },
  {
   "cell_type": "markdown",
   "metadata": {
    "id": "_Yx2RWzXuXNf"
   },
   "source": [
    "#### <font color='red'>Question 6: Which movie is ranked 5th from the top in the list obtained? </font>\n",
    "-  <font color='red'>E.T. the Extra-Terrestrial</font>\n",
    "-  <font color='red'>The Avengers</font>\n",
    "-  <font color='red'>The Dark Knight</font>\n",
    "-  <font color='red'>Titanic</font>"
   ]
  },
  {
   "cell_type": "code",
   "execution_count": 369,
   "metadata": {
    "id": "W9OcDHrs7iHh"
   },
   "outputs": [
    {
     "name": "stdout",
     "output_type": "stream",
     "text": [
      "2748    E.T. the Extra-Terrestrial \n",
      "Name: movie_title, dtype: object\n"
     ]
    }
   ],
   "source": [
    "print(top10[4:5])"
   ]
  },
  {
   "cell_type": "markdown",
   "metadata": {
    "id": "WM1YYRqouXNf"
   },
   "source": [
    "**Subtask 3.3: Find IMDb Top 200**\n",
    "\n",
    "Create a new dataframe `IMDb_Top_200` and store the top 200 movies with the highest IMDb Rating (corresponding to the column: `imdb_score`). Also make sure that for all of these movies, the `num_voted_users` is greater than 25,000. \n",
    "\n",
    "Also add a `Rank` column containing the values 1 to 200 indicating the ranks of the corresponding films."
   ]
  },
  {
   "cell_type": "code",
   "execution_count": 103,
   "metadata": {
    "id": "tk75lwniuXNf"
   },
   "outputs": [
    {
     "name": "stdout",
     "output_type": "stream",
     "text": [
      "      color         director_name  num_critic_for_reviews  duration  \\\n",
      "1795  Color        Frank Darabont                   199.0     142.0   \n",
      "3016  Color  Francis Ford Coppola                   208.0     175.0   \n",
      "2543  Color  Francis Ford Coppola                   149.0     220.0   \n",
      "64    Color     Christopher Nolan                   645.0     152.0   \n",
      "325   Color         Peter Jackson                   328.0     192.0   \n",
      "...     ...                   ...                     ...       ...   \n",
      "3237  Color          Duncan Jones                   415.0      97.0   \n",
      "668   Color     Quentin Tarantino                   596.0     187.0   \n",
      "3405  Color     Richard Linklater                   405.0     109.0   \n",
      "1734  Color          Pierre Morel                   309.0      93.0   \n",
      "1502  Color       Nick Cassavetes                   177.0     123.0   \n",
      "\n",
      "      director_facebook_likes  actor_3_facebook_likes          actor_2_name  \\\n",
      "1795                      0.0                   461.0        Jeffrey DeMunn   \n",
      "3016                      0.0                  3000.0         Marlon Brando   \n",
      "2543                      0.0                  3000.0             Al Pacino   \n",
      "64                    22000.0                 11000.0          Heath Ledger   \n",
      "325                       0.0                   416.0            Billy Boyd   \n",
      "...                       ...                     ...                   ...   \n",
      "3237                      0.0                   372.0            Matt Berry   \n",
      "668                   16000.0                  1000.0  Jennifer Jason Leigh   \n",
      "3405                      0.0                    48.0          Ariane Labed   \n",
      "1734                    180.0                   485.0         Holly Valance   \n",
      "1502                    415.0                   545.0        Kevin Connolly   \n",
      "\n",
      "      actor_1_facebook_likes       gross  \\\n",
      "1795                 11000.0   28.341469   \n",
      "3016                 14000.0  134.821952   \n",
      "2543                 22000.0   57.300000   \n",
      "64                   23000.0  533.316061   \n",
      "325                   5000.0  377.019252   \n",
      "...                      ...         ...   \n",
      "3237                 18000.0    5.009677   \n",
      "668                  46000.0   54.116191   \n",
      "3405                   140.0    8.114507   \n",
      "1734                 14000.0  145.000989   \n",
      "1502                 33000.0    0.064286   \n",
      "\n",
      "                                    genres  ... country content_rating  \\\n",
      "1795                           Crime|Drama  ...     USA              R   \n",
      "3016                           Crime|Drama  ...     USA              R   \n",
      "2543                           Crime|Drama  ...     USA              R   \n",
      "64             Action|Crime|Drama|Thriller  ...     USA          PG-13   \n",
      "325         Action|Adventure|Drama|Fantasy  ...     USA          PG-13   \n",
      "...                                    ...  ...     ...            ...   \n",
      "3237                  Drama|Mystery|Sci-Fi  ...      UK              R   \n",
      "668   Crime|Drama|Mystery|Thriller|Western  ...     USA              R   \n",
      "3405                         Drama|Romance  ...     USA              R   \n",
      "1734                       Action|Thriller  ...  France          PG-13   \n",
      "1502                         Drama|Romance  ...     USA          PG-13   \n",
      "\n",
      "      budget  title_year actor_2_facebook_likes  imdb_score aspect_ratio  \\\n",
      "1795    25.0      1994.0                  745.0         9.3         1.85   \n",
      "3016     6.0      1972.0                10000.0         9.2         1.85   \n",
      "2543    13.0      1974.0                14000.0         9.0         1.85   \n",
      "64     185.0      2008.0                13000.0         9.0         2.35   \n",
      "325     94.0      2003.0                  857.0         8.9         2.35   \n",
      "...      ...         ...                    ...         ...          ...   \n",
      "3237     5.0      2009.0                  572.0         7.9         2.35   \n",
      "668     44.0      2015.0                 1000.0         7.9         2.76   \n",
      "3405     3.0      2013.0                   63.0         7.9         1.85   \n",
      "1734    25.0      2008.0                  816.0         7.9         2.35   \n",
      "1502    29.0      2004.0                  638.0         7.9         2.35   \n",
      "\n",
      "     movie_facebook_likes      profit Rank  \n",
      "1795               108000    3.341469    1  \n",
      "3016                43000  128.821952    2  \n",
      "2543                14000   44.300000    3  \n",
      "64                  37000  348.316061    4  \n",
      "325                 16000  283.019252    5  \n",
      "...                   ...         ...  ...  \n",
      "3237                47000    0.009677  196  \n",
      "668                114000   10.116191  197  \n",
      "3405                62000    5.114507  198  \n",
      "1734                29000  120.000989  199  \n",
      "1502                57000  -28.935714  200  \n",
      "\n",
      "[200 rows x 30 columns]\n"
     ]
    }
   ],
   "source": [
    "IMDb_Top_200 = eng_df[eng_df.num_voted_users >= 25000].sort_values('imdb_score', ascending=False).head(200)\n",
    "IMDb_Top_200['Rank'] = range(1, 201)\n",
    "\n",
    "print(IMDb_Top_200)"
   ]
  },
  {
   "cell_type": "markdown",
   "metadata": {
    "id": "7suOCBbOuXNf"
   },
   "source": [
    "#### <font color='red'>Question 7: Suppose movies are divided into 5 buckets based on the IMDb ratings: </font>\n",
    "-  <font color='red'>7.5 to 8</font>\n",
    "-  <font color='red'>8 to 8.5</font>\n",
    "-  <font color='red'>8.5 to 9</font>\n",
    "-  <font color='red'>9 to 9.5</font>\n",
    "-  <font color='red'>9.5 to 10</font>\n",
    "\n",
    "<font color = 'red'> Which bucket holds the maximum number of movies from *IMDb_Top_200*? </font>"
   ]
  },
  {
   "cell_type": "code",
   "execution_count": 133,
   "metadata": {
    "id": "miw5Y3Dd7v_1"
   },
   "outputs": [
    {
     "name": "stdout",
     "output_type": "stream",
     "text": [
      "8 to 8.5\n"
     ]
    }
   ],
   "source": [
    "bucket_1 = len(IMDb_Top_200[(IMDb_Top_200['imdb_score'] >= 7.5) & (IMDb_Top_200['imdb_score'] < 8)])\n",
    "bucket_2 = len(IMDb_Top_200[(IMDb_Top_200['imdb_score'] >= 8) & (IMDb_Top_200['imdb_score'] < 8.5)])\n",
    "bucket_3 = len(IMDb_Top_200[(IMDb_Top_200['imdb_score'] >= 8.5) & (IMDb_Top_200['imdb_score'] < 9)])\n",
    "bucket_4 = len(IMDb_Top_200[(IMDb_Top_200['imdb_score'] >= 9) & (IMDb_Top_200['imdb_score'] < 9.5)])\n",
    "bucket_5 = len(IMDb_Top_200[(IMDb_Top_200['imdb_score'] >= 9.5) & (IMDb_Top_200['imdb_score'] < 10)])\n",
    "\n",
    "buckets={'7.5 to 8':bucket_1,'8 to 8.5':bucket_2,'8.5 to 9':bucket_3,'9 to 9.5':bucket_4,'9.5 to 10':bucket_5}\n",
    "\n",
    "print(max(buckets,key=buckets.get))\n"
   ]
  },
  {
   "cell_type": "markdown",
   "metadata": {
    "id": "aZ-GePIjuXNg"
   },
   "source": [
    "**Subtask 3.4: Find the critic-favorite and audience-favorite actors**\n",
    "\n",
    "   1. Create three new dataframes namely, `Meryl_Streep`, `Leo_Caprio`, and `Brad_Pitt` which contain the movies in which the actors: 'Meryl Streep', 'Leonardo DiCaprio', and 'Brad Pitt' are the lead actors. Use only the `actor_1_name` column for extraction. Also, make sure that you use the names 'Meryl Streep', 'Leonardo DiCaprio', and 'Brad Pitt' for the said extraction.\n",
    "   2. Append the rows of all these dataframes and store them in a new dataframe named `Combined`.\n",
    "   3. Group the combined dataframe using the `actor_1_name` column.\n",
    "   4. Find the mean of the `num_critic_for_reviews` and `num_user_for_review` and identify the actors which have the highest mean."
   ]
  },
  {
   "cell_type": "code",
   "execution_count": 277,
   "metadata": {
    "id": "VI1_flNMuXNg"
   },
   "outputs": [],
   "source": [
    "Meryl_Streep=eng_df[eng_df.actor_1_name=='Meryl Streep']"
   ]
  },
  {
   "cell_type": "code",
   "execution_count": 16,
   "metadata": {
    "id": "Eq19yxKzuXNg"
   },
   "outputs": [],
   "source": [
    "Leo_Caprio=eng_df[eng_df.actor_1_name=='Leonardo DiCaprio']\n"
   ]
  },
  {
   "cell_type": "code",
   "execution_count": 151,
   "metadata": {
    "id": "C7qh15zFuXNg"
   },
   "outputs": [],
   "source": [
    "Brad_Pitt=eng_df[eng_df.actor_1_name=='Brad Pitt']"
   ]
  },
  {
   "cell_type": "code",
   "execution_count": 159,
   "metadata": {
    "id": "XQCrFusHuXNg"
   },
   "outputs": [],
   "source": [
    "# Write your code for combining the three dataframes here\n",
    "Combined = pd.concat([Meryl_Streep,Leo_Caprio,Brad_Pitt])\n"
   ]
  },
  {
   "cell_type": "code",
   "execution_count": 160,
   "metadata": {
    "id": "ImG-ywC1uXNg"
   },
   "outputs": [],
   "source": [
    "grouped_combined = Combined.groupby('actor_1_name')\n"
   ]
  },
  {
   "cell_type": "code",
   "execution_count": 340,
   "metadata": {},
   "outputs": [
    {
     "name": "stdout",
     "output_type": "stream",
     "text": [
      "Actor with the highest mean num_critic_for_reviews: Leonardo DiCaprio\n",
      "Actor with the highest mean num_user_for_reviews: Leonardo DiCaprio\n"
     ]
    }
   ],
   "source": [
    "\n",
    "mean_critic_reviews = grouped_combined['num_critic_for_reviews'].mean()\n",
    "mean_user_reviews = grouped_combined['num_user_for_reviews'].mean()\n",
    "\n",
    "highest_mean_critic = mean_critic_reviews.idxmax()\n",
    "highest_mean_user = mean_user_reviews.idxmax()\n",
    "\n",
    "print(\"Actor with the highest mean num_critic_for_reviews:\", highest_mean_critic)\n",
    "print(\"Actor with the highest mean num_user_for_reviews:\", highest_mean_user)\n"
   ]
  },
  {
   "cell_type": "code",
   "execution_count": 342,
   "metadata": {},
   "outputs": [
    {
     "name": "stdout",
     "output_type": "stream",
     "text": [
      "Actor with the highest mean of critic reviews: Leonardo DiCaprio 330.19\n",
      "Actor with the highest mean of audience reviews: Leonardo DiCaprio 914.48\n"
     ]
    }
   ],
   "source": [
    "mean_critic = round(grouped_combined['num_critic_for_reviews'].mean(), 2)\n",
    "mean_audience = round(grouped_combined['num_user_for_reviews'].mean(), 2)\n",
    "\n",
    "print('Actor with the highest mean of critic reviews:', mean_critic.idxmax(), max(mean_critic))\n",
    "print('Actor with the highest mean of audience reviews:', mean_audience.idxmax(),max(mean_audience))\n"
   ]
  },
  {
   "cell_type": "markdown",
   "metadata": {
    "id": "aXAnppSSuXNh"
   },
   "source": [
    "#### <font color='red'>Question 8: Which actor is highest rated among the three actors according to the user reviews? </font>\n",
    "-  <font color='red'>Meryl Streep</font>\n",
    "-  <font color='red'>Leonardo DiCaprio</font>\n",
    "-  <font color='red'>Brad Pitt</font>"
   ]
  },
  {
   "cell_type": "code",
   "execution_count": 329,
   "metadata": {
    "id": "eoBoObqxuXNh"
   },
   "outputs": [
    {
     "name": "stdout",
     "output_type": "stream",
     "text": [
      "Leonardo DiCaprio\n"
     ]
    }
   ],
   "source": [
    "highest_rated1 = round(grouped_combined['num_critic_for_reviews'].max(), 2)\n",
    "\n",
    "print( highest_rated1.idxmax())"
   ]
  },
  {
   "cell_type": "markdown",
   "metadata": {
    "id": "pVd0MXKJuXNh"
   },
   "source": [
    "#### <font color='red'>Question 9: Which actor is highest rated among the three actors according to the critics?</font>\n",
    "-  <font color='red'>Meryl Streep</font>\n",
    "-  <font color='red'>Leonardo DiCaprio</font>\n",
    "-  <font color='red'>Brad Pitt</font>"
   ]
  },
  {
   "cell_type": "code",
   "execution_count": 339,
   "metadata": {
    "id": "eSE2FYvu75kf"
   },
   "outputs": [
    {
     "name": "stdout",
     "output_type": "stream",
     "text": [
      "Brad Pitt\n"
     ]
    }
   ],
   "source": [
    "highest_rated = round(grouped_combined['num_user_for_reviews'].max(), 2)\n",
    "\n",
    "print( highest_rated.idxmax())"
   ]
  },
  {
   "cell_type": "markdown",
   "metadata": {
    "id": "kNz6JfxRAndL"
   },
   "source": [
    "#### <font color='red'>Question 10: Which movie starting with the letter A, has the 3rd highest profit?</font>\n",
    "-  <font color='red'>Austin Powers: The Spy Who Shagged Me</font>\n",
    "-  <font color='red'>Avatar</font>\n",
    "-  <font color='red'>Avengers: Age of Ultron</font>"
   ]
  },
  {
   "cell_type": "code",
   "execution_count": 253,
   "metadata": {},
   "outputs": [
    {
     "name": "stdout",
     "output_type": "stream",
     "text": [
      "Avengers: Age of Ultron \n"
     ]
    }
   ],
   "source": [
    "eng_df['profit'] = eng_df['gross'] - eng_df['budget']\n",
    "filtered_movies = eng_df[eng_df['movie_title'].str.startswith('A', na=False)]\n",
    "eng_df1 = filtered_movies.sort_values(by='profit', ascending=False)\n",
    "\n",
    "print(eng_df1.iloc[2]['movie_title'])"
   ]
  },
  {
   "cell_type": "markdown",
   "metadata": {
    "id": "wJ1uKIoJArBh"
   },
   "source": [
    "#### <font color='red'>Question 11: Among the movies starting with the letter A, who has the highest imdb score?</font>\n",
    "-  <font color='red'>American History X</font>\n",
    "-  <font color='red'>Apocalypse Now</font>\n",
    "-  <font color='red'>Avengers: Age of Ultron</font>"
   ]
  },
  {
   "cell_type": "code",
   "execution_count": 252,
   "metadata": {
    "id": "VN7X--kNAo3d"
   },
   "outputs": [
    {
     "name": "stdout",
     "output_type": "stream",
     "text": [
      "American History X \n"
     ]
    }
   ],
   "source": [
    "eng_df1 = filtered_movies.sort_values(by='imdb_score', ascending=False)\n",
    "highest_imdb = eng_df1.iloc[0]['movie_title']\n",
    "\n",
    "print(highest_imdb)\n"
   ]
  },
  {
   "cell_type": "markdown",
   "metadata": {
    "id": "EmtZWJ5XAsrW"
   },
   "source": [
    "#### <font color='red'>Question 12: Among the movies that '*Joss Whedon*' has directed, which of them made the highest profit?</font>\n",
    "-  <font color='red'>Serenity</font>\n",
    "-  <font color='red'>The Avengers</font>\n",
    "-  <font color='red'>Avengers: Age of Ultron</font>"
   ]
  },
  {
   "cell_type": "code",
   "execution_count": 257,
   "metadata": {
    "id": "rVplzSW2AsLt"
   },
   "outputs": [
    {
     "name": "stdout",
     "output_type": "stream",
     "text": [
      "Avengers: Age of Ultron \n"
     ]
    }
   ],
   "source": [
    "joss_whedon = eng_df[eng_df.director_name=='Joss Whedon']\n",
    "\n",
    "sort_by_profit= joss_whedon.sort_values(by='profit', ascending=False)\n",
    "highest_profit = sort_by_profit.iloc[0]['movie_title']\n",
    "\n",
    "print(highest_profit)\n"
   ]
  },
  {
   "cell_type": "markdown",
   "metadata": {
    "id": "V7efizDpAw7J"
   },
   "source": [
    "#### <font color='red'>Question 13: Among the movies that were released in the year '*2007*' & '*2008*', which of them had the 2nd highest imdb score?</font>\n",
    "-  <font color='red'>The Dark Knight</font>\n",
    "-  <font color='red'>WALL·E</font>\n",
    "-  <font color='red'>No End in Sight</font>\n",
    "-  <font color='red'>Into the Wild</font>"
   ]
  },
  {
   "cell_type": "code",
   "execution_count": 328,
   "metadata": {},
   "outputs": [
    {
     "name": "stdout",
     "output_type": "stream",
     "text": [
      "56    WALL·E \n",
      "Name: movie_title, dtype: object\n"
     ]
    }
   ],
   "source": [
    "year_2007=eng_df[eng_df.title_year==2007.0]\n",
    "year_2008=eng_df[eng_df.title_year==2008.0]\n",
    "Combined = pd.concat([year_2007,year_2008])\n",
    "\n",
    "eng_df2 = Combined.sort_values(by='imdb_score', ascending=False)\n",
    "\n",
    "print(eng_df2.iloc[1:2]['movie_title'])\n"
   ]
  },
  {
   "cell_type": "code",
   "execution_count": null,
   "metadata": {},
   "outputs": [],
   "source": []
  }
 ],
 "metadata": {
  "colab": {
   "provenance": []
  },
  "kernelspec": {
   "display_name": "Python 3 (ipykernel)",
   "language": "python",
   "name": "python3"
  },
  "language_info": {
   "codemirror_mode": {
    "name": "ipython",
    "version": 3
   },
   "file_extension": ".py",
   "mimetype": "text/x-python",
   "name": "python",
   "nbconvert_exporter": "python",
   "pygments_lexer": "ipython3",
   "version": "3.10.9"
  }
 },
 "nbformat": 4,
 "nbformat_minor": 1
}
